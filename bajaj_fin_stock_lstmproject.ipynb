{
  "nbformat": 4,
  "nbformat_minor": 0,
  "metadata": {
    "colab": {
      "provenance": [],
      "mount_file_id": "1OwtaPJf3qMrbUwK70LcpWwerf6IziCxf",
      "authorship_tag": "ABX9TyNPLv2atWkLY5c0z/j+X4tm",
      "include_colab_link": true
    },
    "kernelspec": {
      "name": "python3",
      "display_name": "Python 3"
    },
    "language_info": {
      "name": "python"
    },
    "accelerator": "GPU",
    "gpuClass": "standard"
  },
  "cells": [
    {
      "cell_type": "markdown",
      "metadata": {
        "id": "view-in-github",
        "colab_type": "text"
      },
      "source": [
        "<a href=\"https://colab.research.google.com/github/rashid818/stockpred_lstm/blob/main/bajaj_fin_stock_lstmproject.ipynb\" target=\"_parent\"><img src=\"https://colab.research.google.com/assets/colab-badge.svg\" alt=\"Open In Colab\"/></a>"
      ]
    },
    {
      "cell_type": "code",
      "execution_count": null,
      "metadata": {
        "id": "v_EDtte5q7HT"
      },
      "outputs": [],
      "source": [
        "from tensorflow.keras.layers import Conv2D,MaxPooling2D,UpSampling2D\n",
        "import matplotlib.pyplot as plt\n",
        "import math\n",
        "import numpy as np\n",
        "import pandas as pd\n",
        "from sklearn.preprocessing import MinMaxScaler\n",
        "from tensorflow.keras.models import Sequential\n",
        "from tensorflow.keras.layers import Dense, LSTM\n",
        "import matplotlib.pyplot as plt"
      ]
    },
    {
      "cell_type": "code",
      "source": [
        "df=pd.read_csv('/content/drive/MyDrive/data/BAJFINANCE__EQ__NSE__NSE__MINUTE.csv.zip')"
      ],
      "metadata": {
        "id": "mRqigvnjrA4Y"
      },
      "execution_count": null,
      "outputs": []
    },
    {
      "cell_type": "code",
      "source": [
        "df"
      ],
      "metadata": {
        "id": "-ej85iUP-iaF"
      },
      "execution_count": null,
      "outputs": []
    },
    {
      "cell_type": "code",
      "source": [
        "df.dropna(inplace=True)"
      ],
      "metadata": {
        "id": "LfkdIhsp-pph"
      },
      "execution_count": null,
      "outputs": []
    },
    {
      "cell_type": "code",
      "source": [
        "import seaborn as sns\n",
        "plt.figure(figsize=(16,8))\n",
        "plt.title('Close Price History')\n",
        "plt.plot(df['close'])\n",
        "#ax=sns.lineplot(data=df, x='timestamp',y='close', color=\"blue\");\n",
        "plt.xlabel('timestamp',fontsize=18)\n",
        "plt.ylabel('Close Price INR',fontsize=18)\n",
        "plt.show()"
      ],
      "metadata": {
        "id": "Q7GbNcxwDtgl"
      },
      "execution_count": null,
      "outputs": []
    },
    {
      "cell_type": "markdown",
      "source": [
        "## ***Converting data to a numpy array***"
      ],
      "metadata": {
        "id": "r5VVKIN8x_Ep"
      }
    },
    {
      "cell_type": "code",
      "source": [
        "data = df.filter(['close'])\n",
        "dataset = data.values\n",
        "training_data_len = math.ceil( len(dataset) *.7)"
      ],
      "metadata": {
        "id": "RZA9GXUlpm-g"
      },
      "execution_count": null,
      "outputs": []
    },
    {
      "cell_type": "code",
      "source": [
        "dataset"
      ],
      "metadata": {
        "id": "j0ID3YEHrsJH"
      },
      "execution_count": null,
      "outputs": []
    },
    {
      "cell_type": "markdown",
      "source": [
        "### ***Transforming the dataset array to range between 0 and 1***"
      ],
      "metadata": {
        "id": "hS5_fU24xuRj"
      }
    },
    {
      "cell_type": "code",
      "source": [
        "scaler = MinMaxScaler(feature_range=(0, 1))\n",
        "scaled_data = scaler.fit_transform(dataset)"
      ],
      "metadata": {
        "id": "bPYBjmHoxYUv"
      },
      "execution_count": null,
      "outputs": []
    },
    {
      "cell_type": "code",
      "source": [
        "train_data = scaled_data[0:training_data_len  , : ]\n",
        "x_train=[]\n",
        "y_train = []\n",
        "for i in range(60,len(train_data)):\n",
        "    x_train.append(train_data[i-60:i,0])\n",
        "    y_train.append(train_data[i,0])"
      ],
      "metadata": {
        "id": "5vZkQT-Zxp7I"
      },
      "execution_count": null,
      "outputs": []
    },
    {
      "cell_type": "code",
      "source": [
        "x_train, y_train = np.array(x_train), np.array(y_train)"
      ],
      "metadata": {
        "id": "pGiCRr8qxqns"
      },
      "execution_count": null,
      "outputs": []
    },
    {
      "cell_type": "code",
      "source": [
        "x_train = np.reshape(x_train, (x_train.shape[0],x_train.shape[1],1))"
      ],
      "metadata": {
        "id": "KInnYVJ8Cy-M"
      },
      "execution_count": null,
      "outputs": []
    },
    {
      "cell_type": "markdown",
      "source": [
        "### ***Building a LSTM Model for Stock Market Prediction***"
      ],
      "metadata": {
        "id": "nGFtlqrREuKq"
      }
    },
    {
      "cell_type": "code",
      "source": [
        "model = Sequential()\n",
        "model.add(LSTM(units=50, return_sequences=True,input_shape=(x_train.shape[1],1)))\n",
        "model.add(LSTM(units=50, return_sequences=False))\n",
        "model.add(Dense(units=25))\n",
        "model.add(Dense(units=1))"
      ],
      "metadata": {
        "id": "gX653ywQDB2e"
      },
      "execution_count": null,
      "outputs": []
    },
    {
      "cell_type": "markdown",
      "source": [
        "### ***Using adam optimizer and mean_squared_error as the loss function***"
      ],
      "metadata": {
        "id": "7us6UfIvDQ54"
      }
    },
    {
      "cell_type": "code",
      "source": [
        "model.compile(optimizer='adam', loss='mean_squared_error')"
      ],
      "metadata": {
        "id": "x3EsFW4gDCW3"
      },
      "execution_count": null,
      "outputs": []
    },
    {
      "cell_type": "code",
      "source": [
        "model.summary()"
      ],
      "metadata": {
        "id": "BQ95633YYfLo"
      },
      "execution_count": null,
      "outputs": []
    },
    {
      "cell_type": "markdown",
      "source": [],
      "metadata": {
        "id": "MVBBKN8CYeV5"
      }
    },
    {
      "cell_type": "code",
      "source": [
        "model.fit(x_train, y_train, batch_size=64, epochs=1)"
      ],
      "metadata": {
        "id": "EPtEQPmlDGQg"
      },
      "execution_count": null,
      "outputs": []
    },
    {
      "cell_type": "code",
      "source": [
        "test_data = scaled_data[training_data_len - 60: , : ]#Create the x_test and y_test data sets\n",
        "x_test = []\n",
        "y_test =  dataset[training_data_len : , : ] #Get all of the rows from index 1603 to the rest and all of the columns (in this case it's only column 'Close'), so 2003 - 1603 = 400 rows of data\n",
        "for i in range(60,len(test_data)):\n",
        "    x_test.append(test_data[i-60:i,0])"
      ],
      "metadata": {
        "id": "XfvkfeXJDJPd"
      },
      "execution_count": null,
      "outputs": []
    },
    {
      "cell_type": "code",
      "source": [
        "x_test = np.array(x_test)"
      ],
      "metadata": {
        "id": "KsU2M_RqDeYM"
      },
      "execution_count": null,
      "outputs": []
    },
    {
      "cell_type": "code",
      "source": [
        "x_test = np.reshape(x_test, (x_test.shape[0],x_test.shape[1],1))"
      ],
      "metadata": {
        "id": "vR2TGCWiDgz8"
      },
      "execution_count": null,
      "outputs": []
    },
    {
      "cell_type": "code",
      "source": [
        "predictions = model.predict(x_test)\n",
        "predictions = scaler.inverse_transform(predictions)"
      ],
      "metadata": {
        "id": "AFkbbwxeDqKC"
      },
      "execution_count": null,
      "outputs": []
    },
    {
      "cell_type": "markdown",
      "source": [
        "### ***Finding the root mean squared error***"
      ],
      "metadata": {
        "id": "xIFBgr3KDwq7"
      }
    },
    {
      "cell_type": "code",
      "source": [
        "rmse=np.sqrt(np.mean(((predictions- y_test)**2)))\n",
        "rmse"
      ],
      "metadata": {
        "id": "IKucWKCpDtJb"
      },
      "execution_count": null,
      "outputs": []
    },
    {
      "cell_type": "markdown",
      "source": [
        "### ***Plotting the predicted values***"
      ],
      "metadata": {
        "id": "Fk8979uiD6Rr"
      }
    },
    {
      "cell_type": "code",
      "source": [
        "train = data[:training_data_len]\n",
        "display = data[training_data_len:]\n",
        "display['Predictions'] = predictions#Visualize the data\n",
        "plt.figure(figsize=(16,8))\n",
        "plt.title('Model')\n",
        "plt.xlabel('Date', fontsize=18)\n",
        "plt.ylabel('Close Price INR', fontsize=18)\n",
        "plt.plot(train['close'])\n",
        "plt.plot(display['close'])\n",
        "plt.plot(display['Predictions'])\n",
        "plt.legend(['Train', 'Val', 'Predictions'], loc='upper right')\n",
        "plt.show()"
      ],
      "metadata": {
        "id": "ar42AjtMD2a1"
      },
      "execution_count": null,
      "outputs": []
    },
    {
      "cell_type": "code",
      "source": [
        "\n",
        "plt.figure(figsize=(16,8))\n",
        "plt.title('Close Price History')\n",
        "plt.plot(df['close'])\n",
        "#ax=sns.lineplot(data=df, x='timestamp',y='close', color=\"blue\");\n",
        "plt.xlabel('timestamp',fontsize=18)\n",
        "plt.ylabel('Close Price INR',fontsize=18)\n",
        "plt.show()"
      ],
      "metadata": {
        "id": "6amiP8fjEBcM"
      },
      "execution_count": null,
      "outputs": []
    }
  ]
}